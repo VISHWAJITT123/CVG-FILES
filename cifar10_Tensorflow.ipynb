{
  "nbformat": 4,
  "nbformat_minor": 0,
  "metadata": {
    "colab": {
      "name": "cifar10_Tensorflow.ipynb",
      "provenance": [],
      "authorship_tag": "ABX9TyO29r/X52efkuvxJDc3cayN",
      "include_colab_link": true
    },
    "kernelspec": {
      "name": "python3",
      "display_name": "Python 3"
    },
    "language_info": {
      "name": "python"
    },
    "accelerator": "GPU"
  },
  "cells": [
    {
      "cell_type": "markdown",
      "metadata": {
        "id": "view-in-github",
        "colab_type": "text"
      },
      "source": [
        "<a href=\"https://colab.research.google.com/github/VISHWAJITT123/CVG-FILES/blob/master/cifar10_Tensorflow.ipynb\" target=\"_parent\"><img src=\"https://colab.research.google.com/assets/colab-badge.svg\" alt=\"Open In Colab\"/></a>"
      ]
    },
    {
      "cell_type": "code",
      "metadata": {
        "id": "vsvG4OicoLub"
      },
      "source": [
        "from keras.models import Sequential\n",
        "from keras.layers import Conv2D,Dense,Flatten\n",
        "from keras.datasets import cifar10\n",
        "from keras.utils import to_categorical\n",
        "import matplotlib.pyplot as plt\n",
        "import numpy as np"
      ],
      "execution_count": 3,
      "outputs": []
    },
    {
      "cell_type": "code",
      "metadata": {
        "id": "wxmQfqYp2Bo_"
      },
      "source": [
        "# Loading the dataset\n",
        "(x_train,y_train),(x_test,y_test) = cifar10.load_data()"
      ],
      "execution_count": 4,
      "outputs": []
    },
    {
      "cell_type": "code",
      "metadata": {
        "colab": {
          "base_uri": "https://localhost:8080/"
        },
        "id": "HAFK7WC52Hcb",
        "outputId": "6bf94b06-8906-4c7d-dc51-652378759162"
      },
      "source": [
        "#Get the shape of the data\n",
        "print(x_train.shape)\n",
        "print(x_test.shape)"
      ],
      "execution_count": 5,
      "outputs": [
        {
          "output_type": "stream",
          "text": [
            "(50000, 32, 32, 3)\n",
            "(10000, 32, 32, 3)\n"
          ],
          "name": "stdout"
        }
      ]
    },
    {
      "cell_type": "code",
      "metadata": {
        "colab": {
          "base_uri": "https://localhost:8080/"
        },
        "id": "etlVadBF2Nc0",
        "outputId": "6000ccb9-8b51-4e9e-b68a-219bb7ce5a92"
      },
      "source": [
        "print(x_train[0])"
      ],
      "execution_count": 7,
      "outputs": [
        {
          "output_type": "stream",
          "text": [
            "[[[ 59  62  63]\n",
            "  [ 43  46  45]\n",
            "  [ 50  48  43]\n",
            "  ...\n",
            "  [158 132 108]\n",
            "  [152 125 102]\n",
            "  [148 124 103]]\n",
            "\n",
            " [[ 16  20  20]\n",
            "  [  0   0   0]\n",
            "  [ 18   8   0]\n",
            "  ...\n",
            "  [123  88  55]\n",
            "  [119  83  50]\n",
            "  [122  87  57]]\n",
            "\n",
            " [[ 25  24  21]\n",
            "  [ 16   7   0]\n",
            "  [ 49  27   8]\n",
            "  ...\n",
            "  [118  84  50]\n",
            "  [120  84  50]\n",
            "  [109  73  42]]\n",
            "\n",
            " ...\n",
            "\n",
            " [[208 170  96]\n",
            "  [201 153  34]\n",
            "  [198 161  26]\n",
            "  ...\n",
            "  [160 133  70]\n",
            "  [ 56  31   7]\n",
            "  [ 53  34  20]]\n",
            "\n",
            " [[180 139  96]\n",
            "  [173 123  42]\n",
            "  [186 144  30]\n",
            "  ...\n",
            "  [184 148  94]\n",
            "  [ 97  62  34]\n",
            "  [ 83  53  34]]\n",
            "\n",
            " [[177 144 116]\n",
            "  [168 129  94]\n",
            "  [179 142  87]\n",
            "  ...\n",
            "  [216 184 140]\n",
            "  [151 118  84]\n",
            "  [123  92  72]]]\n"
          ],
          "name": "stdout"
        }
      ]
    },
    {
      "cell_type": "code",
      "metadata": {
        "colab": {
          "base_uri": "https://localhost:8080/"
        },
        "id": "FbtqhVv_9KfT",
        "outputId": "0ef1e33e-578e-4f29-eb3a-97bba75e88a5"
      },
      "source": [
        "print(y_train.shape)"
      ],
      "execution_count": 23,
      "outputs": [
        {
          "output_type": "stream",
          "text": [
            "(50000, 1)\n"
          ],
          "name": "stdout"
        }
      ]
    },
    {
      "cell_type": "code",
      "metadata": {
        "colab": {
          "base_uri": "https://localhost:8080/"
        },
        "id": "KfDMdizv2WqM",
        "outputId": "8b9ebd26-0173-417c-ceab-e4962044761d"
      },
      "source": [
        "print(y_train[:5])"
      ],
      "execution_count": 25,
      "outputs": [
        {
          "output_type": "stream",
          "text": [
            "[[6]\n",
            " [9]\n",
            " [9]\n",
            " [4]\n",
            " [1]]\n"
          ],
          "name": "stdout"
        }
      ]
    },
    {
      "cell_type": "code",
      "metadata": {
        "colab": {
          "base_uri": "https://localhost:8080/"
        },
        "id": "n4AWqYKh9qZX",
        "outputId": "e1dfb94d-f32d-48cd-ce60-923b9762005f"
      },
      "source": [
        "y_train = y_train.reshape(-1)\n",
        "print(y_train[:5])"
      ],
      "execution_count": 8,
      "outputs": [
        {
          "output_type": "stream",
          "text": [
            "[6 9 9 4 1]\n"
          ],
          "name": "stdout"
        }
      ]
    },
    {
      "cell_type": "code",
      "metadata": {
        "colab": {
          "base_uri": "https://localhost:8080/"
        },
        "id": "8NdofzqO2jOA",
        "outputId": "f0c56367-b2f7-4e7c-9c95-b3db7d8f4534"
      },
      "source": [
        "y_train_one_hot = to_categorical(y_train)\n",
        "y_test_one_hot = to_categorical(y_test)\n",
        "\n",
        "#print the new label\n",
        "print(y_train_one_hot[0])"
      ],
      "execution_count": 9,
      "outputs": [
        {
          "output_type": "stream",
          "text": [
            "[0. 0. 0. 0. 0. 0. 1. 0. 0. 0.]\n"
          ],
          "name": "stdout"
        }
      ]
    },
    {
      "cell_type": "code",
      "metadata": {
        "id": "fR3G7wUv957X"
      },
      "source": [
        "classes = [\"airplane\",\"automobile\",\"bird\",\"cat\",\"deer\",\"dog\",\"frog\",\"horse\",\"ship\",\"truck\"]"
      ],
      "execution_count": 10,
      "outputs": []
    },
    {
      "cell_type": "code",
      "metadata": {
        "id": "vQzgq4Lt9_Gk"
      },
      "source": [
        "def plot_sample(X, y, index):\n",
        "    plt.figure(figsize = (15,2))\n",
        "    plt.imshow(X[index])\n",
        "    plt.xlabel(classes[y[index]])\n"
      ],
      "execution_count": 11,
      "outputs": []
    },
    {
      "cell_type": "code",
      "metadata": {
        "colab": {
          "base_uri": "https://localhost:8080/",
          "height": 173
        },
        "id": "RHhn7y6f-BCi",
        "outputId": "f862852e-e811-44c0-dacb-cefe3456a1f5"
      },
      "source": [
        "plot_sample(x_train,y_train,0)"
      ],
      "execution_count": 30,
      "outputs": [
        {
          "output_type": "display_data",
          "data": {
            "image/png": "[encoded data removed]",
            "text/plain": [
              "<Figure size 1080x144 with 1 Axes>"
            ]
          },
          "metadata": {
            "tags": [],
            "needs_background": "light"
          }
        }
      ]
    },
    {
      "cell_type": "code",
      "metadata": {
        "id": "SK3deTiz2mU8"
      },
      "source": [
        "model = Sequential()\n",
        "model.add(Conv2D(3000,kernel_size=3, activation='relu',input_shape=(32,32,3)))\n",
        "model.add(Conv2D(1500,kernel_size=3,activation='relu'))\n",
        "model.add(Conv2D(512,kernel_size=3, activation='relu'))\n",
        "model.add(Conv2D(256,kernel_size=3,activation='relu'))\n",
        "model.add(Conv2D(64,kernel_size=3,activation='relu'))\n",
        "model.add(Flatten())\n",
        "model.add(Dense(10, activation='softmax'))"
      ],
      "execution_count": 15,
      "outputs": []
    },
    {
      "cell_type": "code",
      "metadata": {
        "id": "_HuNixaw21pW"
      },
      "source": [
        "#Compile the model\n",
        "model.compile(optimizer='adam',loss = 'categorical_crossentropy',metrics=['accuracy'])"
      ],
      "execution_count": 16,
      "outputs": []
    },
    {
      "cell_type": "code",
      "metadata": {
        "colab": {
          "base_uri": "https://localhost:8080/"
        },
        "id": "iHrQx0u727Rc",
        "outputId": "1dcac22a-62f7-4501-d8e5-753f8bdfa3d2"
      },
      "source": [
        "hist = model.fit(x_train,y_train_one_hot,validation_data=(x_test,y_test_one_hot),epochs= 3)"
      ],
      "execution_count": 17,
      "outputs": [
        {
          "output_type": "stream",
          "text": [
            "Epoch 1/3\n",
            "1563/1563 [==============================] - 1688s 1s/step - loss: 44.1806 - accuracy: 0.1011 - val_loss: 2.3027 - val_accuracy: 0.1000\n",
            "Epoch 2/3\n",
            "1563/1563 [==============================] - 1614s 1s/step - loss: 2.5481 - accuracy: 0.1013 - val_loss: 2.3026 - val_accuracy: 0.1000\n",
            "Epoch 3/3\n",
            "1563/1563 [==============================] - 1623s 1s/step - loss: 2.3026 - accuracy: 0.1000 - val_loss: 2.3027 - val_accuracy: 0.1000\n"
          ],
          "name": "stdout"
        }
      ]
    },
    {
      "cell_type": "code",
      "metadata": {
        "colab": {
          "base_uri": "https://localhost:8080/",
          "height": 295
        },
        "id": "Pg-60vFw3EW3",
        "outputId": "8da24948-56bd-4aef-f375-581ec0c675cf"
      },
      "source": [
        "#Visualize The model Accuracy\n",
        "plt.plot(hist.history['accuracy'])\n",
        "plt.plot(hist.history['val_accuracy'])\n",
        "plt.title('Model Accuracy')\n",
        "plt.xlabel('Epoch')\n",
        "plt.ylabel('Accuracy')\n",
        "plt.legend(['Train','Val'], loc = 'upper left')\n",
        "plt.show()"
      ],
      "execution_count": 18,
      "outputs": [
        {
          "output_type": "display_data",
          "data": {
            "image/png": "[encoded data removed]",
            "text/plain": [
              "<Figure size 432x288 with 1 Axes>"
            ]
          },
          "metadata": {
            "tags": [],
            "needs_background": "light"
          }
        }
      ]
    },
    {
      "cell_type": "code",
      "metadata": {
        "colab": {
          "base_uri": "https://localhost:8080/"
        },
        "id": "7NY-bBH33IZI",
        "outputId": "7009ed01-91a0-4378-80df-de2239355a7e"
      },
      "source": [
        "#Show probabilities for the first four images in the test set\n",
        "predictions = model.predict(x_test[:4])\n",
        "predictions"
      ],
      "execution_count": 15,
      "outputs": [
        {
          "output_type": "execute_result",
          "data": {
            "text/plain": [
              "array([[8.44978821e-03, 9.52336180e-04, 5.63950315e-02, 1.35242954e-01,\n",
              "        4.13236842e-02, 9.03778300e-02, 5.92065275e-01, 5.17330393e-02,\n",
              "        1.88312232e-02, 4.62893210e-03],\n",
              "       [9.30524431e-03, 8.05152893e-01, 4.02842561e-04, 4.19678137e-04,\n",
              "        7.16693685e-05, 5.98210354e-05, 8.66635503e-07, 2.14441079e-05,\n",
              "        1.23780295e-01, 6.07852265e-02],\n",
              "       [2.02123284e-01, 2.05445483e-01, 3.09319440e-02, 1.59840304e-02,\n",
              "        1.07020298e-02, 1.42398663e-02, 4.92790202e-03, 1.97858736e-02,\n",
              "        3.61548066e-01, 1.34311467e-01],\n",
              "       [2.67161340e-01, 7.14552328e-02, 1.34638399e-02, 1.61806482e-03,\n",
              "        9.85590043e-04, 3.02545173e-04, 2.63432902e-03, 1.96211459e-03,\n",
              "        5.99033833e-01, 4.13830876e-02]], dtype=float32)"
            ]
          },
          "metadata": {
            "tags": []
          },
          "execution_count": 15
        }
      ]
    },
    {
      "cell_type": "code",
      "metadata": {
        "colab": {
          "base_uri": "https://localhost:8080/"
        },
        "id": "oGjglRiA3Sgj",
        "outputId": "da70f833-edf2-4921-8193-a59cea11cb3f"
      },
      "source": [
        "#Print our predictions as labels for our first four data\n",
        "pred =np.argmax(predictions,axis = 1)\n",
        "print(pred)\n",
        "#Print the Actual labels\n",
        "\n",
        "print(y_test[:4])"
      ],
      "execution_count": 16,
      "outputs": [
        {
          "output_type": "stream",
          "text": [
            "[6 1 8 8]\n",
            "[[3]\n",
            " [8]\n",
            " [8]\n",
            " [0]]\n"
          ],
          "name": "stdout"
        }
      ]
    }
  ]
}