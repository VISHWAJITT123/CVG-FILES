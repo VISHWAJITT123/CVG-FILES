{
  "nbformat": 4,
  "nbformat_minor": 0,
  "metadata": {
    "colab": {
      "name": "cifar10_Tensorflow.ipynb",
      "provenance": [],
      "collapsed_sections": [],
      "authorship_tag": "ABX9TyNdPSTAjPtbpwtCNxmNuh9r",
      "include_colab_link": true
    },
    "kernelspec": {
      "name": "python3",
      "display_name": "Python 3"
    },
    "language_info": {
      "name": "python"
    }
  },
  "cells": [
    {
      "cell_type": "markdown",
      "metadata": {
        "id": "view-in-github",
        "colab_type": "text"
      },
      "source": [
        "<a href=\"https://colab.research.google.com/github/VISHWAJITT123/CVG-FILES/blob/master/cifar10_Tensorflow.ipynb\" target=\"_parent\"><img src=\"https://colab.research.google.com/assets/colab-badge.svg\" alt=\"Open In Colab\"/></a>"
      ]
    },
    {
      "cell_type": "code",
      "metadata": {
        "id": "vsvG4OicoLub"
      },
      "source": [
        "from keras.models import Sequential\n",
        "from keras.layers import Conv2D,Dense,Flatten,MaxPooling2D\n",
        "from keras.datasets import cifar10\n",
        "from keras.utils import to_categorical\n",
        "import matplotlib.pyplot as plt\n",
        "import numpy as np"
      ],
      "execution_count": null,
      "outputs": []
    },
    {
      "cell_type": "code",
      "metadata": {
        "id": "wxmQfqYp2Bo_",
        "colab": {
          "base_uri": "https://localhost:8080/"
        },
        "outputId": "e24410c1-6e12-41e3-db42-0e0090810ecf"
      },
      "source": [
        "# Loading the dataset\n",
        "(x_train,y_train),(x_test,y_test) = cifar10.load_data()"
      ],
      "execution_count": null,
      "outputs": [
        {
          "output_type": "stream",
          "text": [
            "Downloading data from https://www.cs.toronto.edu/~kriz/cifar-10-python.tar.gz\n",
            "170500096/170498071 [==============================] - 2s 0us/step\n"
          ],
          "name": "stdout"
        }
      ]
    },
    {
      "cell_type": "code",
      "metadata": {
        "colab": {
          "base_uri": "https://localhost:8080/"
        },
        "id": "HAFK7WC52Hcb",
        "outputId": "041fc7d8-6003-47d7-9588-791aefa5c135"
      },
      "source": [
        "#Get the shape of the data\n",
        "print(x_train.shape)\n",
        "print(x_test.shape)"
      ],
      "execution_count": null,
      "outputs": [
        {
          "output_type": "stream",
          "text": [
            "(50000, 32, 32, 3)\n",
            "(10000, 32, 32, 3)\n"
          ],
          "name": "stdout"
        }
      ]
    },
    {
      "cell_type": "code",
      "metadata": {
        "id": "etlVadBF2Nc0",
        "colab": {
          "base_uri": "https://localhost:8080/"
        },
        "outputId": "cb793fea-5e1d-4789-be54-56cbecca47b2"
      },
      "source": [
        "print(x_train[0])"
      ],
      "execution_count": null,
      "outputs": [
        {
          "output_type": "stream",
          "text": [
            "[[[ 59  62  63]\n",
            "  [ 43  46  45]\n",
            "  [ 50  48  43]\n",
            "  ...\n",
            "  [158 132 108]\n",
            "  [152 125 102]\n",
            "  [148 124 103]]\n",
            "\n",
            " [[ 16  20  20]\n",
            "  [  0   0   0]\n",
            "  [ 18   8   0]\n",
            "  ...\n",
            "  [123  88  55]\n",
            "  [119  83  50]\n",
            "  [122  87  57]]\n",
            "\n",
            " [[ 25  24  21]\n",
            "  [ 16   7   0]\n",
            "  [ 49  27   8]\n",
            "  ...\n",
            "  [118  84  50]\n",
            "  [120  84  50]\n",
            "  [109  73  42]]\n",
            "\n",
            " ...\n",
            "\n",
            " [[208 170  96]\n",
            "  [201 153  34]\n",
            "  [198 161  26]\n",
            "  ...\n",
            "  [160 133  70]\n",
            "  [ 56  31   7]\n",
            "  [ 53  34  20]]\n",
            "\n",
            " [[180 139  96]\n",
            "  [173 123  42]\n",
            "  [186 144  30]\n",
            "  ...\n",
            "  [184 148  94]\n",
            "  [ 97  62  34]\n",
            "  [ 83  53  34]]\n",
            "\n",
            " [[177 144 116]\n",
            "  [168 129  94]\n",
            "  [179 142  87]\n",
            "  ...\n",
            "  [216 184 140]\n",
            "  [151 118  84]\n",
            "  [123  92  72]]]\n"
          ],
          "name": "stdout"
        }
      ]
    },
    {
      "cell_type": "code",
      "metadata": {
        "colab": {
          "base_uri": "https://localhost:8080/"
        },
        "id": "FbtqhVv_9KfT",
        "outputId": "454530d3-e096-44b3-b0f4-ae80f9d3a650"
      },
      "source": [
        "print(y_train.shape)"
      ],
      "execution_count": null,
      "outputs": [
        {
          "output_type": "stream",
          "text": [
            "(50000, 1)\n"
          ],
          "name": "stdout"
        }
      ]
    },
    {
      "cell_type": "code",
      "metadata": {
        "colab": {
          "base_uri": "https://localhost:8080/"
        },
        "id": "KfDMdizv2WqM",
        "outputId": "90b6bad4-232b-47bd-fec1-3f3fd6f10b7f"
      },
      "source": [
        "print(y_train[:5])"
      ],
      "execution_count": null,
      "outputs": [
        {
          "output_type": "stream",
          "text": [
            "[[6]\n",
            " [9]\n",
            " [9]\n",
            " [4]\n",
            " [1]]\n"
          ],
          "name": "stdout"
        }
      ]
    },
    {
      "cell_type": "code",
      "metadata": {
        "colab": {
          "base_uri": "https://localhost:8080/"
        },
        "id": "n4AWqYKh9qZX",
        "outputId": "29541b24-9f6f-42ab-d0c3-837aa2b6d204"
      },
      "source": [
        "y_train = y_train.reshape(-1)\n",
        "print(y_train[:5])"
      ],
      "execution_count": null,
      "outputs": [
        {
          "output_type": "stream",
          "text": [
            "[6 9 9 4 1]\n"
          ],
          "name": "stdout"
        }
      ]
    },
    {
      "cell_type": "code",
      "metadata": {
        "colab": {
          "base_uri": "https://localhost:8080/"
        },
        "id": "8NdofzqO2jOA",
        "outputId": "9815a784-882c-4896-c3e0-bb66e53aeae7"
      },
      "source": [
        "y_train_one_hot = to_categorical(y_train)\n",
        "y_test_one_hot = to_categorical(y_test)\n",
        "\n",
        "#print the new label\n",
        "print(y_train_one_hot[0])"
      ],
      "execution_count": null,
      "outputs": [
        {
          "output_type": "stream",
          "text": [
            "[0. 0. 0. 0. 0. 0. 1. 0. 0. 0.]\n"
          ],
          "name": "stdout"
        }
      ]
    },
    {
      "cell_type": "code",
      "metadata": {
        "id": "fR3G7wUv957X"
      },
      "source": [
        "classes = [\"airplane\",\"automobile\",\"bird\",\"cat\",\"deer\",\"dog\",\"frog\",\"horse\",\"ship\",\"truck\"]"
      ],
      "execution_count": null,
      "outputs": []
    },
    {
      "cell_type": "code",
      "metadata": {
        "id": "vQzgq4Lt9_Gk"
      },
      "source": [
        "def plot_sample(X, y, index):\n",
        "    plt.figure(figsize = (15,2))\n",
        "    plt.imshow(X[index])\n",
        "    plt.xlabel(classes[y[index]])\n"
      ],
      "execution_count": null,
      "outputs": []
    },
    {
      "cell_type": "code",
      "metadata": {
        "colab": {
          "base_uri": "https://localhost:8080/",
          "height": 173
        },
        "id": "RHhn7y6f-BCi",
        "outputId": "28e15d0f-4aa5-43ed-84a9-127162386ac3"
      },
      "source": [
        "plot_sample(x_train,y_train,0)"
      ],
      "execution_count": null,
      "outputs": [
        {
          "output_type": "display_data",
          "data": {
            "image/png": "[encoded data removed]",
            "text/plain": [
              "<Figure size 1080x144 with 1 Axes>"
            ]
          },
          "metadata": {
            "tags": [],
            "needs_background": "light"
          }
        }
      ]
    },
    {
      "cell_type": "code",
      "metadata": {
        "id": "SK3deTiz2mU8"
      },
      "source": [
        "model = Sequential()\n",
        "#model.add(Conv2D(3000,kernel_size=3, activation='relu',input_shape=(32,32,3)))\n",
        "#model.add(Conv2D(1500,kernel_size=3,activation='relu'))\n",
        "#model.add(Conv2D(512,kernel_size=3, activation='relu'))\n",
        "#model.add(Conv2D(256,kernel_size=3,activation='relu'))\n",
        "#model.add(Conv2D(64,kernel_size=3,activation='relu'))\n",
        "#model.add(Flatten())\n",
        "#model.add(Dense(10, activation='softmax'))\n",
        "#model = Sequential()\n",
        "model.add(Conv2D(32, (3, 3), activation='relu', kernel_initializer='he_uniform', padding='same', input_shape=(32, 32, 3)))\n",
        "model.add(Conv2D(32, (3, 3), activation='relu', kernel_initializer='he_uniform', padding='same'))\n",
        "model.add(MaxPooling2D((2, 2)))\n",
        "model.add(Conv2D(64, (3, 3), activation='relu', kernel_initializer='he_uniform', padding='same'))\n",
        "model.add(Conv2D(64, (3, 3), activation='relu', kernel_initializer='he_uniform', padding='same'))\n",
        "model.add(MaxPooling2D((2, 2)))\n",
        "model.add(Conv2D(128, (3, 3), activation='relu', kernel_initializer='he_uniform', padding='same'))\n",
        "model.add(Conv2D(128, (3, 3), activation='relu', kernel_initializer='he_uniform', padding='same'))\n",
        "model.add(MaxPooling2D((2, 2)))\n",
        "model.add(Flatten())\n",
        "model.add(Dense(128, activation='relu', kernel_initializer='he_uniform'))\n",
        "model.add(Dense(10, activation='softmax'))"
      ],
      "execution_count": null,
      "outputs": []
    },
    {
      "cell_type": "code",
      "metadata": {
        "id": "_HuNixaw21pW"
      },
      "source": [
        "#Compile the model\n",
        "model.compile(optimizer='adam',loss = 'categorical_crossentropy',metrics=['accuracy'])"
      ],
      "execution_count": null,
      "outputs": []
    },
    {
      "cell_type": "code",
      "metadata": {
        "colab": {
          "base_uri": "https://localhost:8080/"
        },
        "id": "iHrQx0u727Rc",
        "outputId": "99b9ced0-bbb1-4244-c954-d3c0f5938995"
      },
      "source": [
        "hist = model.fit(x_train,y_train_one_hot,validation_data=(x_test,y_test_one_hot),epochs= 50)"
      ],
      "execution_count": null,
      "outputs": [
        {
          "output_type": "stream",
          "text": [
            "Epoch 1/50\n",
            "1563/1563 [==============================] - 42s 6ms/step - loss: 10.7680 - accuracy: 0.3028 - val_loss: 1.4972 - val_accuracy: 0.4597\n",
            "Epoch 2/50\n",
            "1563/1563 [==============================] - 8s 5ms/step - loss: 1.4186 - accuracy: 0.4890 - val_loss: 1.2407 - val_accuracy: 0.5633\n",
            "Epoch 3/50\n",
            "1563/1563 [==============================] - 8s 5ms/step - loss: 1.2186 - accuracy: 0.5690 - val_loss: 1.1105 - val_accuracy: 0.6148\n",
            "Epoch 4/50\n",
            "1563/1563 [==============================] - 8s 5ms/step - loss: 1.0594 - accuracy: 0.6285 - val_loss: 1.0982 - val_accuracy: 0.6204\n",
            "Epoch 5/50\n",
            "1563/1563 [==============================] - 8s 5ms/step - loss: 0.9403 - accuracy: 0.6760 - val_loss: 1.0044 - val_accuracy: 0.6668\n",
            "Epoch 6/50\n",
            "1563/1563 [==============================] - 8s 5ms/step - loss: 0.8390 - accuracy: 0.7096 - val_loss: 0.9902 - val_accuracy: 0.6749\n",
            "Epoch 7/50\n",
            "1563/1563 [==============================] - 8s 5ms/step - loss: 0.7757 - accuracy: 0.7279 - val_loss: 0.8954 - val_accuracy: 0.6971\n",
            "Epoch 8/50\n",
            "1563/1563 [==============================] - 8s 5ms/step - loss: 0.7129 - accuracy: 0.7552 - val_loss: 0.9483 - val_accuracy: 0.6947\n",
            "Epoch 9/50\n",
            "1563/1563 [==============================] - 8s 5ms/step - loss: 0.6600 - accuracy: 0.7739 - val_loss: 0.9023 - val_accuracy: 0.7033\n",
            "Epoch 10/50\n",
            "1563/1563 [==============================] - 8s 5ms/step - loss: 0.6002 - accuracy: 0.7918 - val_loss: 0.9189 - val_accuracy: 0.7065\n",
            "Epoch 11/50\n",
            "1563/1563 [==============================] - 8s 5ms/step - loss: 0.5502 - accuracy: 0.8087 - val_loss: 0.8827 - val_accuracy: 0.7189\n",
            "Epoch 12/50\n",
            "1563/1563 [==============================] - 8s 5ms/step - loss: 0.5177 - accuracy: 0.8238 - val_loss: 0.9534 - val_accuracy: 0.7083\n",
            "Epoch 13/50\n",
            "1563/1563 [==============================] - 8s 5ms/step - loss: 0.4773 - accuracy: 0.8338 - val_loss: 0.9609 - val_accuracy: 0.7109\n",
            "Epoch 14/50\n",
            "1563/1563 [==============================] - 8s 5ms/step - loss: 0.4579 - accuracy: 0.8438 - val_loss: 1.0290 - val_accuracy: 0.7184\n",
            "Epoch 15/50\n",
            "1563/1563 [==============================] - 8s 5ms/step - loss: 0.4307 - accuracy: 0.8532 - val_loss: 0.9728 - val_accuracy: 0.7108\n",
            "Epoch 16/50\n",
            "1563/1563 [==============================] - 8s 5ms/step - loss: 0.4215 - accuracy: 0.8589 - val_loss: 1.0370 - val_accuracy: 0.7117\n",
            "Epoch 17/50\n",
            "1563/1563 [==============================] - 8s 5ms/step - loss: 0.3824 - accuracy: 0.8724 - val_loss: 1.0491 - val_accuracy: 0.7079\n",
            "Epoch 18/50\n",
            "1563/1563 [==============================] - 8s 5ms/step - loss: 0.3666 - accuracy: 0.8772 - val_loss: 1.0438 - val_accuracy: 0.7230\n",
            "Epoch 19/50\n",
            "1563/1563 [==============================] - 8s 5ms/step - loss: 0.3774 - accuracy: 0.8767 - val_loss: 1.0322 - val_accuracy: 0.7216\n",
            "Epoch 20/50\n",
            "1563/1563 [==============================] - 8s 5ms/step - loss: 0.3561 - accuracy: 0.8809 - val_loss: 1.0550 - val_accuracy: 0.7141\n",
            "Epoch 21/50\n",
            "1563/1563 [==============================] - 8s 5ms/step - loss: 0.3364 - accuracy: 0.8901 - val_loss: 1.0372 - val_accuracy: 0.7151\n",
            "Epoch 22/50\n",
            "1563/1563 [==============================] - 8s 5ms/step - loss: 0.3527 - accuracy: 0.8834 - val_loss: 1.1461 - val_accuracy: 0.7186\n",
            "Epoch 23/50\n",
            "1563/1563 [==============================] - 8s 5ms/step - loss: 0.3237 - accuracy: 0.8935 - val_loss: 1.2294 - val_accuracy: 0.6935\n",
            "Epoch 24/50\n",
            "1563/1563 [==============================] - 8s 5ms/step - loss: 0.3144 - accuracy: 0.8965 - val_loss: 1.1969 - val_accuracy: 0.7116\n",
            "Epoch 25/50\n",
            "1563/1563 [==============================] - 8s 5ms/step - loss: 0.3177 - accuracy: 0.8982 - val_loss: 1.1796 - val_accuracy: 0.7094\n",
            "Epoch 26/50\n",
            "1563/1563 [==============================] - 8s 5ms/step - loss: 0.3203 - accuracy: 0.8944 - val_loss: 1.2622 - val_accuracy: 0.7103\n",
            "Epoch 27/50\n",
            "1563/1563 [==============================] - 8s 5ms/step - loss: 0.3219 - accuracy: 0.8977 - val_loss: 1.1788 - val_accuracy: 0.7117\n",
            "Epoch 28/50\n",
            "1563/1563 [==============================] - 8s 5ms/step - loss: 0.3008 - accuracy: 0.9025 - val_loss: 1.2236 - val_accuracy: 0.7190\n",
            "Epoch 29/50\n",
            "1563/1563 [==============================] - 8s 5ms/step - loss: 0.2885 - accuracy: 0.9090 - val_loss: 1.2871 - val_accuracy: 0.7106\n",
            "Epoch 30/50\n",
            "1563/1563 [==============================] - 8s 5ms/step - loss: 0.3141 - accuracy: 0.9003 - val_loss: 1.2079 - val_accuracy: 0.7072\n",
            "Epoch 31/50\n",
            "1563/1563 [==============================] - 8s 5ms/step - loss: 0.2767 - accuracy: 0.9142 - val_loss: 1.4330 - val_accuracy: 0.6960\n",
            "Epoch 32/50\n",
            "1563/1563 [==============================] - 8s 5ms/step - loss: 0.3162 - accuracy: 0.9042 - val_loss: 1.4736 - val_accuracy: 0.7212\n",
            "Epoch 33/50\n",
            "1563/1563 [==============================] - 8s 5ms/step - loss: 0.3018 - accuracy: 0.9064 - val_loss: 1.3196 - val_accuracy: 0.7172\n",
            "Epoch 34/50\n",
            "1563/1563 [==============================] - 8s 5ms/step - loss: 0.3030 - accuracy: 0.9077 - val_loss: 1.5640 - val_accuracy: 0.7008\n",
            "Epoch 35/50\n",
            "1563/1563 [==============================] - 8s 5ms/step - loss: 0.3241 - accuracy: 0.9037 - val_loss: 1.3271 - val_accuracy: 0.7221\n",
            "Epoch 36/50\n",
            "1563/1563 [==============================] - 8s 5ms/step - loss: 0.2750 - accuracy: 0.9181 - val_loss: 1.4554 - val_accuracy: 0.7027\n",
            "Epoch 37/50\n",
            "1563/1563 [==============================] - 8s 5ms/step - loss: 0.2857 - accuracy: 0.9143 - val_loss: 1.3236 - val_accuracy: 0.7110\n",
            "Epoch 38/50\n",
            "1563/1563 [==============================] - 8s 5ms/step - loss: 0.2892 - accuracy: 0.9143 - val_loss: 1.3009 - val_accuracy: 0.7141\n",
            "Epoch 39/50\n",
            "1563/1563 [==============================] - 8s 5ms/step - loss: 0.2856 - accuracy: 0.9143 - val_loss: 1.3960 - val_accuracy: 0.7100\n",
            "Epoch 40/50\n",
            "1563/1563 [==============================] - 8s 5ms/step - loss: 0.2923 - accuracy: 0.9152 - val_loss: 1.5066 - val_accuracy: 0.7097\n",
            "Epoch 41/50\n",
            "1563/1563 [==============================] - 8s 5ms/step - loss: 0.2885 - accuracy: 0.9162 - val_loss: 1.3813 - val_accuracy: 0.7131\n",
            "Epoch 42/50\n",
            "1563/1563 [==============================] - 8s 5ms/step - loss: 0.2983 - accuracy: 0.9137 - val_loss: 1.4410 - val_accuracy: 0.7143\n",
            "Epoch 43/50\n",
            "1563/1563 [==============================] - 8s 5ms/step - loss: 0.3123 - accuracy: 0.9100 - val_loss: 1.5281 - val_accuracy: 0.7140\n",
            "Epoch 44/50\n",
            "1563/1563 [==============================] - 8s 5ms/step - loss: 0.3345 - accuracy: 0.9061 - val_loss: 1.4572 - val_accuracy: 0.6963\n",
            "Epoch 45/50\n",
            "1563/1563 [==============================] - 8s 5ms/step - loss: 0.2826 - accuracy: 0.9207 - val_loss: 1.4503 - val_accuracy: 0.7010\n",
            "Epoch 46/50\n",
            "1563/1563 [==============================] - 8s 5ms/step - loss: 0.3038 - accuracy: 0.9154 - val_loss: 1.5531 - val_accuracy: 0.7163\n",
            "Epoch 47/50\n",
            "1563/1563 [==============================] - 8s 5ms/step - loss: 0.3025 - accuracy: 0.9175 - val_loss: 1.3172 - val_accuracy: 0.7158\n",
            "Epoch 48/50\n",
            "1563/1563 [==============================] - 8s 5ms/step - loss: 0.3137 - accuracy: 0.9127 - val_loss: 1.4523 - val_accuracy: 0.7137\n",
            "Epoch 49/50\n",
            "1563/1563 [==============================] - 8s 5ms/step - loss: 0.3084 - accuracy: 0.9142 - val_loss: 1.5377 - val_accuracy: 0.7146\n",
            "Epoch 50/50\n",
            "1563/1563 [==============================] - 8s 5ms/step - loss: 0.3029 - accuracy: 0.9185 - val_loss: 1.6330 - val_accuracy: 0.6845\n"
          ],
          "name": "stdout"
        }
      ]
    },
    {
      "cell_type": "code",
      "metadata": {
        "colab": {
          "base_uri": "https://localhost:8080/",
          "height": 295
        },
        "id": "Pg-60vFw3EW3",
        "outputId": "3f218ec3-05fc-4bf2-8753-bf7ea224e3f8"
      },
      "source": [
        "#Visualize The model Accuracy\n",
        "plt.plot(hist.history['accuracy'])\n",
        "plt.plot(hist.history['val_accuracy'])\n",
        "plt.title('Model Accuracy')\n",
        "plt.xlabel('Epoch')\n",
        "plt.ylabel('Accuracy')\n",
        "plt.legend(['Train','Val'], loc = 'upper left')\n",
        "plt.show()"
      ],
      "execution_count": null,
      "outputs": [
        {
          "output_type": "display_data",
          "data": {
            "image/png": "[encoded data removed]",
            "text/plain": [
              "<Figure size 432x288 with 1 Axes>"
            ]
          },
          "metadata": {
            "tags": [],
            "needs_background": "light"
          }
        }
      ]
    },
    {
      "cell_type": "code",
      "metadata": {
        "colab": {
          "base_uri": "https://localhost:8080/"
        },
        "id": "7NY-bBH33IZI",
        "outputId": "11b3813c-ca8f-4324-f6a0-e840cd047e85"
      },
      "source": [
        "#Show probabilities for the first four images in the test set\n",
        "predictions = model.predict(x_test[:4])\n",
        "predictions"
      ],
      "execution_count": null,
      "outputs": [
        {
          "output_type": "execute_result",
          "data": {
            "text/plain": [
              "array([[3.19116552e-05, 1.05447953e-07, 1.14504147e-07, 7.84887910e-01,\n",
              "        1.05524114e-05, 2.15049237e-01, 1.75774348e-05, 2.45762931e-06,\n",
              "        1.11012994e-07, 5.80799266e-08],\n",
              "       [9.08417511e-04, 9.80374515e-01, 2.93813605e-06, 2.08576353e-07,\n",
              "        5.87834503e-11, 4.07314316e-09, 1.82606286e-07, 1.00279514e-07,\n",
              "        5.97525714e-03, 1.27383815e-02],\n",
              "       [1.54024381e-02, 6.81020832e-03, 9.32499068e-04, 2.50466546e-04,\n",
              "        5.94628327e-05, 6.82100108e-06, 2.41626884e-04, 1.92080147e-03,\n",
              "        6.85274541e-01, 2.89101183e-01],\n",
              "       [9.66495097e-01, 7.06374180e-07, 1.19429035e-03, 3.54927374e-06,\n",
              "        1.55423593e-04, 7.93098764e-07, 3.64134252e-07, 1.42875011e-03,\n",
              "        3.07183713e-02, 2.59130366e-06]], dtype=float32)"
            ]
          },
          "metadata": {
            "tags": []
          },
          "execution_count": 17
        }
      ]
    },
    {
      "cell_type": "code",
      "metadata": {
        "colab": {
          "base_uri": "https://localhost:8080/"
        },
        "id": "oGjglRiA3Sgj",
        "outputId": "949ad490-a6a6-447c-85d3-27eb11346da8"
      },
      "source": [
        "#Print our predictions as labels for our first four data\n",
        "pred =np.argmax(predictions,axis = 1)\n",
        "print(pred)\n",
        "#Print the Actual labels\n",
        "\n",
        "print(y_test[:4])"
      ],
      "execution_count": null,
      "outputs": [
        {
          "output_type": "stream",
          "text": [
            "[3 1 8 0]\n",
            "[[3]\n",
            " [8]\n",
            " [8]\n",
            " [0]]\n"
          ],
          "name": "stdout"
        }
      ]
    }
  ]
}